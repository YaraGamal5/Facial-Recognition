{
  "nbformat": 4,
  "nbformat_minor": 0,
  "metadata": {
    "accelerator": "GPU",
    "colab": {
      "name": "Face_Recognition_Final.ipynb",
      "provenance": [],
      "collapsed_sections": []
    },
    "kernelspec": {
      "display_name": "Python 3",
      "language": "python",
      "name": "python3"
    },
    "language_info": {
      "codemirror_mode": {
        "name": "ipython",
        "version": 3
      },
      "file_extension": ".py",
      "mimetype": "text/x-python",
      "name": "python",
      "nbconvert_exporter": "python",
      "pygments_lexer": "ipython3",
      "version": "3.6.4"
    }
  },
  "cells": [
    {
      "cell_type": "code",
      "metadata": {
        "id": "EUUMkLxAtpaA",
        "colab": {
          "base_uri": "https://localhost:8080/"
        },
        "outputId": "53e9beea-28cc-4431-b769-f085f31913a5"
      },
      "source": [
        "import glob\n",
        "import numpy as np\n",
        "import pandas as pd\n",
        "import matplotlib.pyplot as plt\n",
        "from PIL import Image\n",
        "from tqdm import tqdm\n",
        "from google.colab import files\n",
        "from scipy import linalg as lg \n",
        "from sklearn.neighbors import KNeighborsClassifier\n",
        "from sklearn.metrics import confusion_matrix\n",
        "from sklearn.metrics import accuracy_score\n",
        "from sklearn.model_selection import cross_val_score\n",
        "np.set_printoptions(threshold=False)\n",
        "from itertools import chain\n",
        "\n",
        "!unzip /content/archive  -d \"/content/dataset\"\n",
        "\n"
      ],
      "execution_count": null,
      "outputs": [
        {
          "output_type": "stream",
          "text": [
            "Archive:  /content/archive.zip\n",
            "replace /content/dataset/README? [y]es, [n]o, [A]ll, [N]one, [r]ename: N\n"
          ],
          "name": "stdout"
        }
      ]
    },
    {
      "cell_type": "code",
      "metadata": {
        "id": "IZKMl3fzcu8A"
      },
      "source": [
        "def import_dataset():\n",
        "\n",
        "  path = \"/content/dataset/\"\n",
        "  dirs = glob.glob(f'{path}*/')\n",
        "  read_img = []\n",
        "  for dir in tqdm(dirs):\n",
        "      images = [np.array(Image.open(image)) for image in glob.glob(f'{dir}*')]\n",
        "      read_img.append(images)\n",
        "  new_list = []\n",
        "  for i in read_img:\n",
        "      for j in i:\n",
        "          new_list.append(j)\n",
        "  for i in range(400):\n",
        "      new_list[i] = new_list[i].reshape(10304)\n",
        "  m = np.array(new_list)\n",
        "  df = pd.DataFrame(new_list)\n",
        "  df['Label'] = 99\n",
        "  x = 0\n",
        "  for y in range(40):\n",
        "      for i in range(x,x+10):\n",
        "          df.iat[i,10304] = y+1\n",
        "      x = x +10\n",
        "  return df"
      ],
      "execution_count": null,
      "outputs": []
    },
    {
      "cell_type": "code",
      "metadata": {
        "colab": {
          "base_uri": "https://localhost:8080/"
        },
        "id": "0qkpFBeAtpaG",
        "outputId": "9341e59e-aa5a-4bc1-f9c8-c9e85b687371"
      },
      "source": [
        "df  = import_dataset()"
      ],
      "execution_count": null,
      "outputs": [
        {
          "output_type": "stream",
          "text": [
            "100%|██████████| 40/40 [00:00<00:00, 270.55it/s]\n"
          ],
          "name": "stderr"
        }
      ]
    },
    {
      "cell_type": "code",
      "metadata": {
        "id": "qvNxwxL_fUH8"
      },
      "source": [
        "labels = df[\"Label\"].to_numpy()\n",
        "def FiftyFiftySplit():\n",
        "  testing = df.iloc[::2]\n",
        "  training = df.iloc[1::2]\n",
        "  return testing,training"
      ],
      "execution_count": null,
      "outputs": []
    },
    {
      "cell_type": "code",
      "metadata": {
        "id": "sBz1DJaw9kzJ"
      },
      "source": [
        "def SeventyThirtySplit():\n",
        "  # Data Split for bonus 30/70\n",
        "  tests = np.zeros((120,10305), dtype=np.int)\n",
        "  trains = np.zeros((280,10305), dtype=np.int)\n",
        "  x=0\n",
        "  y=0\n",
        "  for i in range(40):\n",
        "    temp = df.loc[df['Label'] == i+1]\n",
        "    temp = np.array(temp)\n",
        "    tests[x:x+3,:] = temp[0:3,:]\n",
        "    trains[y:y+7,:] = temp[3:10,:]\n",
        "    x += 3\n",
        "    y += 7\n",
        "  tests = pd.DataFrame(tests).rename({10304: 'Label'}, axis='columns')\n",
        "  trains = pd.DataFrame(trains).rename({10304: 'Label'}, axis='columns')\n",
        "  return tests,trains"
      ],
      "execution_count": null,
      "outputs": []
    },
    {
      "cell_type": "code",
      "metadata": {
        "id": "iah4ZNCYwZ_O"
      },
      "source": [
        "def KNNClassifier(training_data,training_label,testing_data,testing_label,alpha):\n",
        "    kneighbours = [1,3,5,7]\n",
        "    accuracy = []\n",
        "\n",
        "     #using 1,3,5,7 neighbours\n",
        "    for i,neighbour in zip(range(len(kneighbours)),kneighbours):\n",
        "        print(\"Using Neighbour Count = \",neighbour)\n",
        "\n",
        "        #our KNN model (fitting & testing)\n",
        "        clf = KNeighborsClassifier(n_neighbors = neighbour, weights = 'distance') \n",
        "        clf.fit(training_data.T, training_label) \n",
        "        predictions = clf.predict(testing_data.T)\n",
        "        print(predictions)\n",
        "        print(testing_label.values.flatten())\n",
        "\n",
        "        #accuracy\n",
        "        accuracy.append(accuracy_score(predictions,testing_label.values.flatten())) \n",
        "        if alpha != 0:\n",
        "         print(\"Accuracy with alpha = \",alpha,\"and K = \",neighbour,\" = \",accuracy[i])\n",
        "\n",
        "        else:\n",
        "         print(\"Accuracy K = \",neighbour,\" = \",accuracy[i])\n",
        "\n",
        "\n",
        "        wrong = 0\n",
        "        for i in range(0,len(predictions)):\n",
        "          #print(\"Classified as: \", predictions[i], \" Actual Label: \", testing_label.values.flatten()[i])\n",
        "            if((predictions[i]) != (testing_label.values.flatten()[i])):\n",
        "              wrong+=1\n",
        "              \n",
        "    print(accuracy)\n",
        "    print(\"Wrong Predictions = \" , wrong)\n",
        "    print(\"***********************************\")\n",
        "    plt.plot(kneighbours,accuracy)\n",
        "    plt.show()\n",
        "\n",
        "\n",
        "alphaValues = [0.8,0.85,0.9,0.95]\n",
        "components = 0"
      ],
      "execution_count": null,
      "outputs": []
    },
    {
      "cell_type": "code",
      "metadata": {
        "id": "vHT8EHpb9zCb"
      },
      "source": [
        "\n",
        "\n",
        "def PCA(alphaValues,training,testing):\n",
        "\n",
        "  training_labels = training['Label']\n",
        "  testing_labels = testing['Label']\n",
        "  print(training.shape)\n",
        "\n",
        "  training = training.drop('Label',axis=1)\n",
        "  testing = testing.drop('Label',axis=1)\n",
        "  print(training.shape)\n",
        "\n",
        "  #get normalized data\n",
        "  mean = np.mean(training,axis = 0)\n",
        "  training_data_normalized = training - mean\n",
        "  testing_data_normalized = testing - np.mean(testing, axis = 0)\n",
        "\n",
        "\n",
        "  #computing covariance matrix and eigenvalues and eigenvectors\n",
        "  covariance_matrix = np.cov(training_data_normalized,rowvar = 0 , bias = 1)\n",
        "  eigen_values , eigen_vectors = lg.eigh(covariance_matrix, turbo = True, check_finite = False)\n",
        "\n",
        "\n",
        "  #sorting both in descending order\n",
        "  idx = eigen_values.argsort()[::-1]\n",
        "  eigen_values_sorted = eigen_values[idx]\n",
        "  eigen_vectors_sorted = eigen_vectors[:,idx]\n",
        "\n",
        "\n",
        "  for alpha in alphaValues:\n",
        "     #getting number of components according to given explained variance\n",
        "      for i in range(0,training.shape[1]):\n",
        "          if(float(sum(eigen_values_sorted[:i]))/float(sum(eigen_values_sorted)) >= alpha): \n",
        "            components = i\n",
        "            print(\"Using\", components,\"Principal Components \\n\")\n",
        "            break\n",
        "    \n",
        "      #getting reduced vectors\n",
        "      reduced_vectors = eigen_vectors_sorted[: , 0 : components + 1]\n",
        "\n",
        "      #projecting new training and testing matrices\n",
        "      new_train = np.dot(reduced_vectors.T , training_data_normalized.T)\n",
        "      new_test = np.dot(reduced_vectors.T , testing_data_normalized.T)\n",
        "      print(\"Alpha Value: \" , alpha )\n",
        "      print(\"***********************************\")\n",
        "      #testing\n",
        "      KNNClassifier(new_train,training_labels,new_test,testing_labels,alpha)\n",
        "\n",
        "\n"
      ],
      "execution_count": null,
      "outputs": []
    },
    {
      "cell_type": "code",
      "metadata": {
        "id": "13HgkNGcQ1Ot"
      },
      "source": [
        "def LDA(training, testing, n_to_project, n_classes,pixels, n_samples):\n",
        "  \n",
        " \n",
        "  #overall mean\n",
        "  m = np.array(training.drop('Label',axis=1).mean(axis = 0)).reshape(1,pixels)\n",
        " \n",
        " \n",
        "  #calculating mean vector for every class\n",
        "  M = np.zeros((n_classes,pixels))\n",
        "  for i in range(n_classes):\n",
        "    M[i,:] = np.array(training.loc[training['Label'] == i+1].drop('Label',axis=1).mean(axis = 0)).reshape(1,pixels)\n",
        " \n",
        " \n",
        "  #Within Class Scatter Matrix\n",
        "  Sw = np.zeros((pixels,pixels))\n",
        "  Si = np.zeros((pixels,pixels))\n",
        "  mi = np.zeros((1,pixels))\n",
        "  for i in range(n_classes):\n",
        "    mi = M[i,:].reshape(1,pixels)\n",
        "    Di = np.array(training.loc[training['Label'] == i+1].drop('Label',axis=1))\n",
        "    Z = Di - mi\n",
        "    Si = np.dot(Z.T,Z)\n",
        "    Sw = Sw + Si\n",
        "  #print(\"Within Class Scatter Matrix:\\n\",Sw)\n",
        "  \n",
        " \n",
        " \n",
        "  #Between Class Scatter Matrix\n",
        "  Sb = np.zeros((pixels,pixels))\n",
        "  mi = np.zeros((1,pixels))\n",
        "  Si = np.zeros((1,pixels))\n",
        "  for i in range(n_classes):\n",
        "    mi = M[i,:].reshape(1,pixels)\n",
        "    mm = mi - m\n",
        "    Si = np.dot(mm.T,mm)\n",
        "    Si = Si*n_samples[i]\n",
        "    Sb += Si\n",
        "  if n_classes <=2:\n",
        "    m1 = M[0,:].reshape(1,pixels)\n",
        "    m2 = M[1,:].reshape(1,pixels)\n",
        "    Z = m1 - m2\n",
        "    Sb = np.dot(Z.T,Z)\n",
        "  #print(\"Between Class Scatter Matrix:\\n\",Sb)\n",
        " \n",
        " \n",
        "  #getting eigen values and vectors\n",
        "  Sw_inverse = np.linalg.inv(Sw)\n",
        "  math_symm = (np.triu_indices(len(Sw_inverse), 1))\n",
        "  Sw_inverse[math_symm]=np.tril(Sw_inverse, -1).T[math_symm]\n",
        "  temp_output = np.dot(Sw_inverse,Sb)\n",
        "  eigenvalues, eigenvectors = lg.eigh(temp_output,\n",
        "  b = np.eye(len(temp_output), dtype = temp_output.dtype), turbo = True, check_finite = False)\n",
        "\n",
        "  #print(eigenvalues.shape)\n",
        "  #print(\"\\nEigen Values:\\n\",eigenvalues)\n",
        "  #print(eigenvectors.shape)\n",
        "  #print(\"\\nEigen Vectors:\\n\", eigenvectors)\n",
        "  \n",
        " \n",
        "  #getting projected matrix\n",
        "  columns_to_project = eigenvalues.argsort()[::-1]\n",
        "  Eigenvaluessorted = eigenvalues[columns_to_project]\n",
        "  Eigenvectorssorted = eigenvectors[:,columns_to_project]\n",
        "  Projected_Matrix = Eigenvectorssorted[:,0:n_to_project]\n",
        " \n",
        " \n",
        "  #Accuracy \n",
        "  tst =  np.array(testing.drop('Label',axis=1))\n",
        "  trn = np.array(training.drop('Label',axis=1))\n",
        " \n",
        "  new_trn = np.dot(Projected_Matrix.T , trn.T)\n",
        "  new_tst = np.dot(Projected_Matrix.T , tst.T)\n",
        " \n",
        "  training_labels = training['Label']\n",
        "  testing_labels = testing['Label']\n",
        "  \n",
        "  KNNClassifier(new_trn,training_labels,new_tst,testing_labels,0)\n",
        " \n",
        "## End of LDA ##"
      ],
      "execution_count": null,
      "outputs": []
    },
    {
      "cell_type": "code",
      "metadata": {
        "id": "_laphQBdhRDc"
      },
      "source": [
        "Test_fifty, Train_fifty = FiftyFiftySplit()\n",
        "Test_Thirty, Train_Seventy = SeventyThirtySplit()"
      ],
      "execution_count": null,
      "outputs": []
    },
    {
      "cell_type": "code",
      "metadata": {
        "colab": {
          "base_uri": "https://localhost:8080/",
          "height": 605
        },
        "id": "8W0hycDcqsfv",
        "outputId": "677c056b-32b1-4c54-f3a9-24a9025a4e0f"
      },
      "source": [
        "print(\"FIFTY FIFTY SPLIT LDA \\n\")\n",
        "Test_fifty, Train_fifty = FiftyFiftySplit()\n",
        "LDA(Train_fifty, Test_fifty, 39, 40, 10304, [5,5,5,5,5,5,5,5,5,5]) #50/50 LDA"
      ],
      "execution_count": null,
      "outputs": [
        {
          "output_type": "stream",
          "text": [
            "FIFTY FIFTY SPLIT LDA \n",
            "\n",
            "Using Neighbour Count =  1\n",
            "[ 1  1  1 ... 40 40 40]\n",
            "[ 1  1  1 ... 40 40 40]\n",
            "Accuracy K =  1  =  0.925\n",
            "Using Neighbour Count =  3\n",
            "[31  1  1 ... 40 40 40]\n",
            "[ 1  1  1 ... 40 40 40]\n",
            "Accuracy K =  3  =  0.905\n",
            "Using Neighbour Count =  5\n",
            "[31  1  1 ... 40 40 40]\n",
            "[ 1  1  1 ... 40 40 40]\n",
            "Accuracy K =  5  =  0.88\n",
            "Using Neighbour Count =  7\n",
            "[31  1  1 ... 40 40 40]\n",
            "[ 1  1  1 ... 40 40 40]\n",
            "Accuracy K =  7  =  0.855\n",
            "Wrong Predictions =  29\n",
            "***********************************\n"
          ],
          "name": "stdout"
        },
        {
          "output_type": "display_data",
          "data": {
            "image/png": "[encoded data removed]",
            "text/plain": [
              "<Figure size 432x288 with 1 Axes>"
            ]
          },
          "metadata": {
            "tags": [],
            "needs_background": "light"
          }
        }
      ]
    },
    {
      "cell_type": "code",
      "metadata": {
        "colab": {
          "base_uri": "https://localhost:8080/",
          "height": 1000
        },
        "id": "8ja_nBdkEOO_",
        "outputId": "2100abb5-53b3-4499-99b5-c50b3e1811aa"
      },
      "source": [
        "## SEVENTY THIRTY PCA\n",
        "print(\"SEVENTY THIRTY SPLIT PCA \\n\")\n",
        "PCA(alphaValues,Train_Seventy,Test_Thirty)"
      ],
      "execution_count": null,
      "outputs": [
        {
          "output_type": "stream",
          "text": [
            "SEVENTY THIRTY SPLIT PCA \n",
            "\n",
            "(280, 10305)\n",
            "(280, 10304)\n",
            "Using 38 Principal Components \n",
            "\n",
            "Alpha Value:  0.8\n",
            "***********************************\n",
            "Using Neighbour Count =  1\n",
            "[ 1  1  1 ... 40 40 40]\n",
            "[ 1  1  1 ... 40 40 40]\n",
            "Accuracy with alpha =  0.8 and K =  1  =  0.975\n",
            "Using Neighbour Count =  3\n",
            "[ 1  1  1 ... 40 40 40]\n",
            "[ 1  1  1 ... 40 40 40]\n",
            "Accuracy with alpha =  0.8 and K =  3  =  0.9666666666666667\n",
            "Using Neighbour Count =  5\n",
            "[ 1  1  1 ... 40 40 40]\n",
            "[ 1  1  1 ... 40 40 40]\n",
            "Accuracy with alpha =  0.8 and K =  5  =  0.95\n",
            "Using Neighbour Count =  7\n",
            "[ 1 40  1 ... 40 40 40]\n",
            "[ 1  1  1 ... 40 40 40]\n",
            "Accuracy with alpha =  0.8 and K =  7  =  0.9333333333333333\n",
            "Wrong Predictions =  8\n",
            "***********************************\n"
          ],
          "name": "stdout"
        },
        {
          "output_type": "display_data",
          "data": {
            "image/png": "[encoded data removed]",
            "text/plain": [
              "<Figure size 432x288 with 1 Axes>"
            ]
          },
          "metadata": {
            "tags": [],
            "needs_background": "light"
          }
        },
        {
          "output_type": "stream",
          "text": [
            "Using 57 Principal Components \n",
            "\n",
            "Alpha Value:  0.85\n",
            "***********************************\n",
            "Using Neighbour Count =  1\n",
            "[ 1  1  1 ... 40 40 40]\n",
            "[ 1  1  1 ... 40 40 40]\n",
            "Accuracy with alpha =  0.85 and K =  1  =  0.9666666666666667\n",
            "Using Neighbour Count =  3\n",
            "[ 1  1  1 ... 40 40 40]\n",
            "[ 1  1  1 ... 40 40 40]\n",
            "Accuracy with alpha =  0.85 and K =  3  =  0.9583333333333334\n",
            "Using Neighbour Count =  5\n",
            "[ 1  1  1 ... 40 40 40]\n",
            "[ 1  1  1 ... 40 40 40]\n",
            "Accuracy with alpha =  0.85 and K =  5  =  0.9583333333333334\n",
            "Using Neighbour Count =  7\n",
            "[ 1 40  1 ... 40 40 40]\n",
            "[ 1  1  1 ... 40 40 40]\n",
            "Accuracy with alpha =  0.85 and K =  7  =  0.9333333333333333\n",
            "Wrong Predictions =  8\n",
            "***********************************\n"
          ],
          "name": "stdout"
        },
        {
          "output_type": "display_data",
          "data": {
            "image/png": "[encoded data removed]",
            "text/plain": [
              "<Figure size 432x288 with 1 Axes>"
            ]
          },
          "metadata": {
            "tags": [],
            "needs_background": "light"
          }
        },
        {
          "output_type": "stream",
          "text": [
            "Using 88 Principal Components \n",
            "\n",
            "Alpha Value:  0.9\n",
            "***********************************\n",
            "Using Neighbour Count =  1\n",
            "[ 1  1  1 ... 40 40 40]\n",
            "[ 1  1  1 ... 40 40 40]\n",
            "Accuracy with alpha =  0.9 and K =  1  =  0.9583333333333334\n",
            "Using Neighbour Count =  3\n",
            "[ 1  1  1 ... 40 40 40]\n",
            "[ 1  1  1 ... 40 40 40]\n",
            "Accuracy with alpha =  0.9 and K =  3  =  0.9416666666666667\n",
            "Using Neighbour Count =  5\n",
            "[14  1  1 ... 40 40 40]\n",
            "[ 1  1  1 ... 40 40 40]\n",
            "Accuracy with alpha =  0.9 and K =  5  =  0.9416666666666667\n",
            "Using Neighbour Count =  7\n",
            "[14 40  1 ... 40 40 40]\n",
            "[ 1  1  1 ... 40 40 40]\n",
            "Accuracy with alpha =  0.9 and K =  7  =  0.9083333333333333\n",
            "Wrong Predictions =  11\n",
            "***********************************\n"
          ],
          "name": "stdout"
        },
        {
          "output_type": "display_data",
          "data": {
            "image/png": "[encoded data removed]",
            "text/plain": [
              "<Figure size 432x288 with 1 Axes>"
            ]
          },
          "metadata": {
            "tags": [],
            "needs_background": "light"
          }
        },
        {
          "output_type": "stream",
          "text": [
            "Using 144 Principal Components \n",
            "\n",
            "Alpha Value:  0.95\n",
            "***********************************\n",
            "Using Neighbour Count =  1\n",
            "[ 1  1  1 ... 40 40 40]\n",
            "[ 1  1  1 ... 40 40 40]\n",
            "Accuracy with alpha =  0.95 and K =  1  =  0.9583333333333334\n",
            "Using Neighbour Count =  3\n",
            "[ 1  1  1 ... 40 40 40]\n",
            "[ 1  1  1 ... 40 40 40]\n",
            "Accuracy with alpha =  0.95 and K =  3  =  0.9333333333333333\n",
            "Using Neighbour Count =  5\n",
            "[14 40  1 ... 40 40 40]\n",
            "[ 1  1  1 ... 40 40 40]\n",
            "Accuracy with alpha =  0.95 and K =  5  =  0.9083333333333333\n",
            "Using Neighbour Count =  7\n",
            "[14 40  1 ... 40 40 40]\n",
            "[ 1  1  1 ... 40 40 40]\n",
            "Accuracy with alpha =  0.95 and K =  7  =  0.9083333333333333\n",
            "Wrong Predictions =  11\n",
            "***********************************\n"
          ],
          "name": "stdout"
        },
        {
          "output_type": "display_data",
          "data": {
            "image/png": "[encoded data removed]",
            "text/plain": [
              "<Figure size 432x288 with 1 Axes>"
            ]
          },
          "metadata": {
            "tags": [],
            "needs_background": "light"
          }
        }
      ]
    },
    {
      "cell_type": "code",
      "metadata": {
        "colab": {
          "base_uri": "https://localhost:8080/",
          "height": 626
        },
        "id": "CoXaXY6zKcXr",
        "outputId": "d6aa45eb-5448-4aec-af73-864e48b5c062"
      },
      "source": [
        "## SEVENTY THIRTY LDA\n",
        "print(\"SEVENTY THIRTY SPLIT LDA \\n\")\n",
        "LDA(Train_Seventy, Test_Thirty, 39, 40, 10304, [7,7,7,7,7,7,7,7,7,7])"
      ],
      "execution_count": null,
      "outputs": [
        {
          "output_type": "stream",
          "text": [
            "SEVENTY THIRTY SPLIT LDA \n",
            "\n",
            "Using Neighbour Count =  1\n",
            "[ 1  1  1 ... 40 40 40]\n",
            "[ 1  1  1 ... 40 40 40]\n",
            "Accuracy K =  1  =  0.9666666666666667\n",
            "Using Neighbour Count =  3\n",
            "[ 1  1  1 ... 40 40 40]\n",
            "[ 1  1  1 ... 40 40 40]\n",
            "Accuracy K =  3  =  0.9166666666666666\n",
            "Using Neighbour Count =  5\n",
            "[31  1  1 ... 40 40 40]\n",
            "[ 1  1  1 ... 40 40 40]\n",
            "Accuracy K =  5  =  0.9083333333333333\n",
            "Using Neighbour Count =  7\n",
            "[31  1  1 ... 40 40 40]\n",
            "[ 1  1  1 ... 40 40 40]\n",
            "Accuracy K =  7  =  0.9\n",
            "[0.9666666666666667, 0.9166666666666666, 0.9083333333333333, 0.9]\n",
            "Wrong Predictions =  12\n",
            "***********************************\n"
          ],
          "name": "stdout"
        },
        {
          "output_type": "display_data",
          "data": {
            "image/png": "[encoded data removed]",
            "text/plain": [
              "<Figure size 432x288 with 1 Axes>"
            ]
          },
          "metadata": {
            "tags": [],
            "needs_background": "light"
          }
        }
      ]
    },
    {
      "cell_type": "code",
      "metadata": {
        "id": "1Bzwcl-kN_9y",
        "colab": {
          "base_uri": "https://localhost:8080/"
        },
        "outputId": "3d927d46-e543-42ef-b098-fbe4dbaf9045"
      },
      "source": [
        "import cv2\n",
        "def load_dataset(path):\n",
        "\n",
        "  data1 = []\n",
        "  labels = []\n",
        "\n",
        "  for i in range (1, 8):\n",
        "    for pic in glob.glob(path +\"s\" + str(i) + \"/\"+\"*.jpg\"):\n",
        "      img = cv2.imread(pic,cv2.IMREAD_GRAYSCALE)\n",
        "      img=cv2.resize(img, (92,112), interpolation = cv2.INTER_AREA)\n",
        "      img = np.array(img)\n",
        "      vec = img.ravel()\n",
        "\n",
        "      labels = np.append(labels, [i])\n",
        "      data1 = np.append(data1, vec)\n",
        "  data1 = np.array(data1).reshape((463, 10304))\n",
        "\n",
        "  return data1,labels\n",
        "\n",
        "\n",
        "!unzip /content/Data  -d \"/content/datasets\"\n",
        "\n",
        "path = \"/content/datasets/Data/\"\n",
        "\n",
        "def create_NonFaceDataset(no_of_non_faces):\n",
        "\n",
        "\n",
        "  nonfaces_data,nonfaces_labels =  load_dataset(path)\n",
        "  nonfaces_data=nonfaces_data[0:no_of_non_faces]\n",
        "  nonfaces_labels=nonfaces_labels[0:no_of_non_faces]\n",
        "  \n",
        "\n",
        "  df_nonfaces_data = pd.DataFrame(nonfaces_data)\n",
        "  df_nonfaces_data['Label'] = 2\n",
        "  \n",
        "\n",
        "  testing_nonfaces = df_nonfaces_data.iloc[::2]\n",
        "\n",
        "  training_nonfaces = df_nonfaces_data.iloc[1::2]\n",
        "\n",
        "  Train_fifty['Label'] = 1\n",
        "\n",
        "  big_data_training = [Train_fifty, training_nonfaces]\n",
        "  result = pd.concat(big_data_training)\n",
        "  df_training = pd.DataFrame(result)\n",
        "\n",
        "  Test_fifty['Label'] = 1\n",
        "\n",
        "  big_data_testing = [Test_fifty, testing_nonfaces]\n",
        "  result_t = pd.concat(big_data_testing)\n",
        "  \n",
        "\n",
        "  df_testing = pd.DataFrame(result_t)\n",
        "  samples = np.array([200,no_of_non_faces/2])\n",
        "\n",
        "  return df_training,df_testing,samples\n"
      ],
      "execution_count": null,
      "outputs": [
        {
          "output_type": "stream",
          "text": [
            "Archive:  /content/Data.zip\n",
            "replace /content/datasets/__MACOSX/._Data? [y]es, [n]o, [A]ll, [N]one, [r]ename: N\n"
          ],
          "name": "stdout"
        }
      ]
    },
    {
      "cell_type": "code",
      "metadata": {
        "colab": {
          "base_uri": "https://localhost:8080/"
        },
        "id": "XfUKAejPkka4",
        "outputId": "d19e3f85-29cf-45b8-c8dc-28d1efa097e3"
      },
      "source": [
        "df_training_400,df_testing_400,samples_400 = create_NonFaceDataset(400)\n",
        "df_training_200,df_testing_200,samples_200 = create_NonFaceDataset(200)\n",
        "df_training_100,df_testing_100,samples_100 = create_NonFaceDataset(100)\n",
        "df_training_50,df_testing_50,samples_50 = create_NonFaceDataset(50)\n",
        "\n",
        "\n",
        "\n",
        "\n",
        "\n",
        "\n",
        "\n"
      ],
      "execution_count": null,
      "outputs": [
        {
          "output_type": "stream",
          "text": [
            "/usr/local/lib/python3.7/dist-packages/ipykernel_launcher.py:41: SettingWithCopyWarning: \n",
            "A value is trying to be set on a copy of a slice from a DataFrame.\n",
            "Try using .loc[row_indexer,col_indexer] = value instead\n",
            "\n",
            "See the caveats in the documentation: https://pandas.pydata.org/pandas-docs/stable/user_guide/indexing.html#returning-a-view-versus-a-copy\n",
            "/usr/local/lib/python3.7/dist-packages/ipykernel_launcher.py:47: SettingWithCopyWarning: \n",
            "A value is trying to be set on a copy of a slice from a DataFrame.\n",
            "Try using .loc[row_indexer,col_indexer] = value instead\n",
            "\n",
            "See the caveats in the documentation: https://pandas.pydata.org/pandas-docs/stable/user_guide/indexing.html#returning-a-view-versus-a-copy\n"
          ],
          "name": "stderr"
        }
      ]
    },
    {
      "cell_type": "code",
      "metadata": {
        "colab": {
          "base_uri": "https://localhost:8080/",
          "height": 605
        },
        "id": "voD9mUTP21Mu",
        "outputId": "f4713863-6e2b-4ba1-c213-79d138a82d6f"
      },
      "source": [
        "print(\"LDA WITH 400 FACE IMAGES AND 50 NON FACES \\n\")\n",
        "LDA(df_training_50, df_testing_50 , 1, 2, 10304, samples_50) #LDA WITH 50 NON FACES"
      ],
      "execution_count": null,
      "outputs": [
        {
          "output_type": "stream",
          "text": [
            "LDA WITH 400 FACE IMAGES AND 50 NON FACES \n",
            "\n",
            "Using Neighbour Count =  1\n",
            "[1 1 1 ... 1 2 1]\n",
            "[1 1 1 ... 2 2 2]\n",
            "Accuracy K =  1  =  0.9244444444444444\n",
            "Using Neighbour Count =  3\n",
            "[1 1 1 ... 1 1 1]\n",
            "[1 1 1 ... 2 2 2]\n",
            "Accuracy K =  3  =  0.9155555555555556\n",
            "Using Neighbour Count =  5\n",
            "[1 1 1 ... 1 1 1]\n",
            "[1 1 1 ... 2 2 2]\n",
            "Accuracy K =  5  =  0.92\n",
            "Using Neighbour Count =  7\n",
            "[1 1 1 ... 1 1 1]\n",
            "[1 1 1 ... 2 2 2]\n",
            "Accuracy K =  7  =  0.92\n",
            "Wrong Predictions =  18\n",
            "***********************************\n"
          ],
          "name": "stdout"
        },
        {
          "output_type": "display_data",
          "data": {
            "image/png": "[encoded data removed]",
            "text/plain": [
              "<Figure size 432x288 with 1 Axes>"
            ]
          },
          "metadata": {
            "tags": [],
            "needs_background": "light"
          }
        }
      ]
    },
    {
      "cell_type": "code",
      "metadata": {
        "colab": {
          "base_uri": "https://localhost:8080/",
          "height": 605
        },
        "id": "2HQddxdg2plC",
        "outputId": "68a433bb-8bdc-4a92-876d-520fa0d3a26b"
      },
      "source": [
        "print(\"LDA WITH 400 FACE IMAGES AND 100 NON FACES \\n\")\n",
        "LDA(df_training_100, df_testing_100 , 1, 2, 10304, samples_100) #LDA WITH 100 NON FACES"
      ],
      "execution_count": null,
      "outputs": [
        {
          "output_type": "stream",
          "text": [
            "LDA WITH 400 FACE IMAGES AND 100 NON FACES \n",
            "\n",
            "Using Neighbour Count =  1\n",
            "[1 1 1 ... 2 2 2]\n",
            "[1 1 1 ... 2 2 2]\n",
            "Accuracy K =  1  =  0.896\n",
            "Using Neighbour Count =  3\n",
            "[1 1 1 ... 2 2 2]\n",
            "[1 1 1 ... 2 2 2]\n",
            "Accuracy K =  3  =  0.9\n",
            "Using Neighbour Count =  5\n",
            "[1 1 1 ... 2 2 2]\n",
            "[1 1 1 ... 2 2 2]\n",
            "Accuracy K =  5  =  0.9\n",
            "Using Neighbour Count =  7\n",
            "[1 1 1 ... 2 2 2]\n",
            "[1 1 1 ... 2 2 2]\n",
            "Accuracy K =  7  =  0.916\n",
            "Wrong Predictions =  21\n",
            "***********************************\n"
          ],
          "name": "stdout"
        },
        {
          "output_type": "display_data",
          "data": {
            "image/png": "[encoded data removed]",
            "text/plain": [
              "<Figure size 432x288 with 1 Axes>"
            ]
          },
          "metadata": {
            "tags": [],
            "needs_background": "light"
          }
        }
      ]
    },
    {
      "cell_type": "code",
      "metadata": {
        "colab": {
          "base_uri": "https://localhost:8080/",
          "height": 605
        },
        "id": "Q-CWR7ui2rR3",
        "outputId": "9fd76b1a-8fb4-45c3-f99c-6ffb4adb366a"
      },
      "source": [
        "print(\"LDA WITH 400 FACE IMAGES AND 200 NON FACES \\n\")\n",
        "LDA(df_training_200, df_testing_200 , 1, 2, 10304, samples_200) #LDA WITH 200 NON FACES"
      ],
      "execution_count": null,
      "outputs": [
        {
          "output_type": "stream",
          "text": [
            "LDA WITH 400 FACE IMAGES AND 200 NON FACES \n",
            "\n",
            "Using Neighbour Count =  1\n",
            "[1 1 1 ... 2 1 2]\n",
            "[1 1 1 ... 2 2 2]\n",
            "Accuracy K =  1  =  0.8033333333333333\n",
            "Using Neighbour Count =  3\n",
            "[1 1 1 ... 2 1 2]\n",
            "[1 1 1 ... 2 2 2]\n",
            "Accuracy K =  3  =  0.8166666666666667\n",
            "Using Neighbour Count =  5\n",
            "[1 1 1 ... 2 1 2]\n",
            "[1 1 1 ... 2 2 2]\n",
            "Accuracy K =  5  =  0.8366666666666667\n",
            "Using Neighbour Count =  7\n",
            "[1 1 1 ... 2 1 2]\n",
            "[1 1 1 ... 2 2 2]\n",
            "Accuracy K =  7  =  0.84\n",
            "Wrong Predictions =  48\n",
            "***********************************\n"
          ],
          "name": "stdout"
        },
        {
          "output_type": "display_data",
          "data": {
            "image/png": "[encoded data removed]",
            "text/plain": [
              "<Figure size 432x288 with 1 Axes>"
            ]
          },
          "metadata": {
            "tags": [],
            "needs_background": "light"
          }
        }
      ]
    },
    {
      "cell_type": "code",
      "metadata": {
        "colab": {
          "base_uri": "https://localhost:8080/",
          "height": 605
        },
        "id": "3Ad6CHCQ2uR_",
        "outputId": "4a04cee1-69b9-47f3-8036-e09a317fb37c"
      },
      "source": [
        "print(\"LDA WITH 400 FACE IMAGES AND 400 NON FACES \\n\")\n",
        "LDA(df_training_400, df_testing_400 , 1, 2, 10304, samples_400) #LDA WITH 400 NON FACES\n"
      ],
      "execution_count": null,
      "outputs": [
        {
          "output_type": "stream",
          "text": [
            "LDA WITH 400 FACE IMAGES AND 400 NON FACES \n",
            "\n",
            "Using Neighbour Count =  1\n",
            "[1 1 1 ... 2 1 2]\n",
            "[1 1 1 ... 2 2 2]\n",
            "Accuracy K =  1  =  0.7675\n",
            "Using Neighbour Count =  3\n",
            "[1 1 1 ... 2 1 2]\n",
            "[1 1 1 ... 2 2 2]\n",
            "Accuracy K =  3  =  0.7625\n",
            "Using Neighbour Count =  5\n",
            "[1 1 1 ... 2 1 2]\n",
            "[1 1 1 ... 2 2 2]\n",
            "Accuracy K =  5  =  0.7575\n",
            "Using Neighbour Count =  7\n",
            "[1 1 1 ... 2 1 2]\n",
            "[1 1 1 ... 2 2 2]\n",
            "Accuracy K =  7  =  0.7725\n",
            "Wrong Predictions =  91\n",
            "***********************************\n"
          ],
          "name": "stdout"
        },
        {
          "output_type": "display_data",
          "data": {
            "image/png": "[encoded data removed]",
            "text/plain": [
              "<Figure size 432x288 with 1 Axes>"
            ]
          },
          "metadata": {
            "tags": [],
            "needs_background": "light"
          }
        }
      ]
    }
  ]
}